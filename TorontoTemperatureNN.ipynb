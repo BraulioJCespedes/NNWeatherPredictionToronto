{
 "cells": [
  {
   "cell_type": "code",
   "id": "initial_id",
   "metadata": {
    "collapsed": true,
    "ExecuteTime": {
     "end_time": "2024-05-27T19:49:54.201468Z",
     "start_time": "2024-05-27T19:49:51.512681Z"
    }
   },
   "source": [
    "import pandas as pd\n",
    "import numpy as np\n",
    "from sklearn.preprocessing import MinMaxScaler\n",
    "\n",
    "from keras.callbacks import ModelCheckpoint, EarlyStopping\n",
    "from keras.optimizers import Adam\n",
    "from keras.models import Sequential\n",
    "from keras.layers import Dense\n",
    "from keras.layers import LSTM\n",
    "from keras.layers import Dropout"
   ],
   "outputs": [],
   "execution_count": 1
  },
  {
   "metadata": {},
   "cell_type": "markdown",
   "source": "# Load the data set and get the parameters and labels ",
   "id": "a294dd1992f4f998"
  },
  {
   "metadata": {
    "ExecuteTime": {
     "end_time": "2024-05-27T19:52:44.592913Z",
     "start_time": "2024-05-27T19:52:44.545336Z"
    }
   },
   "cell_type": "code",
   "source": "temperature_data = pd.read_csv('./data/toronto_temperature.csv')",
   "id": "95dce2e761522330",
   "outputs": [],
   "execution_count": 2
  },
  {
   "metadata": {
    "ExecuteTime": {
     "end_time": "2024-05-27T19:52:46.595378Z",
     "start_time": "2024-05-27T19:52:46.565891Z"
    }
   },
   "cell_type": "code",
   "source": "temperature_data.head(5)",
   "id": "3c8e51d01f347b56",
   "outputs": [
    {
     "data": {
      "text/plain": [
       "                      dt_iso   temp\n",
       "0  2023-05-17 00:00:00+00:00  15.14\n",
       "1  2023-05-17 01:00:00+00:00  12.97\n",
       "2  2023-05-17 02:00:00+00:00  11.63\n",
       "3  2023-05-17 03:00:00+00:00  10.07\n",
       "4  2023-05-17 04:00:00+00:00   8.97"
      ],
      "text/html": [
       "<div>\n",
       "<style scoped>\n",
       "    .dataframe tbody tr th:only-of-type {\n",
       "        vertical-align: middle;\n",
       "    }\n",
       "\n",
       "    .dataframe tbody tr th {\n",
       "        vertical-align: top;\n",
       "    }\n",
       "\n",
       "    .dataframe thead th {\n",
       "        text-align: right;\n",
       "    }\n",
       "</style>\n",
       "<table border=\"1\" class=\"dataframe\">\n",
       "  <thead>\n",
       "    <tr style=\"text-align: right;\">\n",
       "      <th></th>\n",
       "      <th>dt_iso</th>\n",
       "      <th>temp</th>\n",
       "    </tr>\n",
       "  </thead>\n",
       "  <tbody>\n",
       "    <tr>\n",
       "      <th>0</th>\n",
       "      <td>2023-05-17 00:00:00+00:00</td>\n",
       "      <td>15.14</td>\n",
       "    </tr>\n",
       "    <tr>\n",
       "      <th>1</th>\n",
       "      <td>2023-05-17 01:00:00+00:00</td>\n",
       "      <td>12.97</td>\n",
       "    </tr>\n",
       "    <tr>\n",
       "      <th>2</th>\n",
       "      <td>2023-05-17 02:00:00+00:00</td>\n",
       "      <td>11.63</td>\n",
       "    </tr>\n",
       "    <tr>\n",
       "      <th>3</th>\n",
       "      <td>2023-05-17 03:00:00+00:00</td>\n",
       "      <td>10.07</td>\n",
       "    </tr>\n",
       "    <tr>\n",
       "      <th>4</th>\n",
       "      <td>2023-05-17 04:00:00+00:00</td>\n",
       "      <td>8.97</td>\n",
       "    </tr>\n",
       "  </tbody>\n",
       "</table>\n",
       "</div>"
      ]
     },
     "execution_count": 3,
     "metadata": {},
     "output_type": "execute_result"
    }
   ],
   "execution_count": 3
  },
  {
   "metadata": {
    "ExecuteTime": {
     "end_time": "2024-05-27T19:52:47.940700Z",
     "start_time": "2024-05-27T19:52:47.927659Z"
    }
   },
   "cell_type": "code",
   "source": "training_set = temperature_data.iloc[:, 1:2].values",
   "id": "7193794a45cb4dfd",
   "outputs": [],
   "execution_count": 4
  },
  {
   "metadata": {
    "ExecuteTime": {
     "end_time": "2024-05-27T19:52:49.350544Z",
     "start_time": "2024-05-27T19:52:49.337380Z"
    }
   },
   "cell_type": "code",
   "source": "training_set",
   "id": "6e34e000cb1408db",
   "outputs": [
    {
     "data": {
      "text/plain": [
       "array([[15.14],\n",
       "       [12.97],\n",
       "       [11.63],\n",
       "       ...,\n",
       "       [17.34],\n",
       "       [17.  ],\n",
       "       [17.67]])"
      ]
     },
     "execution_count": 5,
     "metadata": {},
     "output_type": "execute_result"
    }
   ],
   "execution_count": 5
  },
  {
   "metadata": {
    "ExecuteTime": {
     "end_time": "2024-05-27T19:52:55.176696Z",
     "start_time": "2024-05-27T19:52:55.162185Z"
    }
   },
   "cell_type": "code",
   "source": [
    "# Feature Scaling\n",
    "sc = MinMaxScaler(feature_range = (0, 1))\n",
    "training_set_scaled = sc.fit_transform(training_set)"
   ],
   "id": "bc4bccfa6c4482eb",
   "outputs": [],
   "execution_count": 6
  },
  {
   "metadata": {
    "ExecuteTime": {
     "end_time": "2024-05-27T19:39:25.783568Z",
     "start_time": "2024-05-27T19:39:25.755406Z"
    }
   },
   "cell_type": "code",
   "source": [
    "# Creating a data structure with 168 timesteps and 1 output\n",
    "# The number 168 is taken because the temperature data is hourly, meaning a day have 24 samples\n",
    "# For 1 weeks for each step the amount would be calculated 7 * 24 = 168\n",
    "x_train = []\n",
    "y_train = []\n",
    "for i in range(168, len(training_set)):\n",
    "    x_train.append(training_set_scaled[i-168:i, 0])\n",
    "    y_train.append(training_set_scaled[i, 0])\n",
    "x_train, y_train = np.array(x_train), np.array(y_train)\n",
    "\n",
    "# Get test data\n",
    "x_test = x_train[7000:7050, :]\n",
    "y_test = y_train[7000:7050]\n",
    "\n",
    "#Trim the data, reduce the size of the training sets\n",
    "x_train = x_train[0:7000, :]\n",
    "y_train = y_train[0:7000]"
   ],
   "id": "4cf7a53d69f3ebf1",
   "outputs": [],
   "execution_count": 7
  },
  {
   "metadata": {},
   "cell_type": "code",
   "outputs": [],
   "execution_count": null,
   "source": "x_train = np.reshape(x_train, (x_train.shape[0], x_train.shape[1], 1))",
   "id": "afac129c6d7eeda9"
  },
  {
   "metadata": {
    "ExecuteTime": {
     "end_time": "2024-05-27T19:52:59.327422Z",
     "start_time": "2024-05-27T19:52:59.312264Z"
    }
   },
   "cell_type": "code",
   "source": [
    "# Create sequences for LSTM\n",
    "def create_sequences(data, seq_length):\n",
    "    xs, ys = [], []\n",
    "    for i in range(len(data)-seq_length):\n",
    "        x = data[i:i+seq_length]\n",
    "        y = data[i+seq_length]\n",
    "        xs.append(x)\n",
    "        ys.append(y)\n",
    "    return np.array(xs), np.array(ys)"
   ],
   "id": "44a25aa76c636863",
   "outputs": [],
   "execution_count": 7
  },
  {
   "metadata": {
    "ExecuteTime": {
     "end_time": "2024-05-27T19:53:23.749086Z",
     "start_time": "2024-05-27T19:53:23.722333Z"
    }
   },
   "cell_type": "code",
   "source": [
    "seq_length = 10\n",
    "X, y = create_sequences(training_set_scaled, seq_length)\n",
    "X = X.reshape((X.shape[0], X.shape[1], 1))\n",
    "# Get test data\n",
    "x2_test = X[7000:7050, :]\n",
    "y2_test = y[7000:7050]\n",
    "\n",
    "#Trim the data, reduce the size of the training sets\n",
    "x2_train = X[0:7000, :]\n",
    "y2_train = y[0:7000]"
   ],
   "id": "1d9b7bf029e86b50",
   "outputs": [],
   "execution_count": 9
  },
  {
   "metadata": {},
   "cell_type": "markdown",
   "source": "# Preparing the model and building the model",
   "id": "15a9a76c9e03434b"
  },
  {
   "metadata": {
    "ExecuteTime": {
     "end_time": "2024-05-27T19:54:43.483977Z",
     "start_time": "2024-05-27T19:54:43.348008Z"
    }
   },
   "cell_type": "code",
   "source": [
    "# Model is created, for this case, an LSTM with 84 unit is added with dropout set at 20% of the network\n",
    "model = Sequential()\n",
    "\n",
    "#First layer\n",
    "model.add(LSTM(units = 55, activation=\"relu\" , return_sequences = True, input_shape = (x2_train.shape[1], 1)))\n",
    "model.add(Dropout(0.2))\n",
    "\n",
    "#Second Layer\n",
    "#model.add(LSTM(units = 120, return_sequences = True))\n",
    "#model.add(Dropout(0.2))\n",
    "\n",
    "#Thrid Layer\n",
    "#model.add(LSTM(units = 120, return_sequences = True))\n",
    "#model.add(Dropout(0.2))\n",
    "\n",
    "# Adding the output layer\n",
    "model.add(Dense(units = 1))\n",
    "\n",
    "# Optimizer and Compiling model\n",
    "optimizer = Adam(learning_rate=0.001)\n",
    "\n",
    "model.compile(optimizer = optimizer, loss = 'mse', metrics = ['accuracy'])"
   ],
   "id": "daf5a9ce8d71de51",
   "outputs": [],
   "execution_count": 12
  },
  {
   "metadata": {
    "ExecuteTime": {
     "end_time": "2024-05-27T19:57:19.328334Z",
     "start_time": "2024-05-27T19:54:58.939882Z"
    }
   },
   "cell_type": "code",
   "source": [
    "# Training the model\n",
    "checkpoint_cb = ModelCheckpoint(\"./Toronto_Temperature_model.keras\", save_best_only=True)\n",
    "early_stopping_cb = EarlyStopping(patience=10, restore_best_weights=True)\n",
    "history = model.fit(x2_train, y2_train, epochs = 100,batch_size = 32, callbacks=[checkpoint_cb, early_stopping_cb])"
   ],
   "id": "68cd955991227e8c",
   "outputs": [
    {
     "name": "stdout",
     "output_type": "stream",
     "text": [
      "Epoch 1/100\n",
      "211/219 [===========================>..] - ETA: 0s - loss: 0.0742 - accuracy: 1.4810e-04WARNING:tensorflow:Can save best model only with val_loss available, skipping.\n",
      "WARNING:tensorflow:Early stopping conditioned on metric `val_loss` which is not available. Available metrics are: loss,accuracy\n",
      "219/219 [==============================] - 3s 4ms/step - loss: 0.0726 - accuracy: 1.4286e-04\n",
      "Epoch 2/100\n",
      "217/219 [============================>.] - ETA: 0s - loss: 0.0180 - accuracy: 2.7362e-04WARNING:tensorflow:Can save best model only with val_loss available, skipping.\n",
      "WARNING:tensorflow:Early stopping conditioned on metric `val_loss` which is not available. Available metrics are: loss,accuracy\n",
      "219/219 [==============================] - 1s 5ms/step - loss: 0.0180 - accuracy: 2.7143e-04\n",
      "Epoch 3/100\n",
      "209/219 [===========================>..] - ETA: 0s - loss: 0.0112 - accuracy: 2.8409e-04WARNING:tensorflow:Can save best model only with val_loss available, skipping.\n",
      "WARNING:tensorflow:Early stopping conditioned on metric `val_loss` which is not available. Available metrics are: loss,accuracy\n",
      "219/219 [==============================] - 1s 5ms/step - loss: 0.0112 - accuracy: 2.7143e-04\n",
      "Epoch 4/100\n",
      "216/219 [============================>.] - ETA: 0s - loss: 0.0094 - accuracy: 2.8935e-04WARNING:tensorflow:Can save best model only with val_loss available, skipping.\n",
      "WARNING:tensorflow:Early stopping conditioned on metric `val_loss` which is not available. Available metrics are: loss,accuracy\n",
      "219/219 [==============================] - 1s 5ms/step - loss: 0.0093 - accuracy: 2.8571e-04\n",
      "Epoch 5/100\n",
      "216/219 [============================>.] - ETA: 0s - loss: 0.0084 - accuracy: 2.8935e-04WARNING:tensorflow:Can save best model only with val_loss available, skipping.\n",
      "WARNING:tensorflow:Early stopping conditioned on metric `val_loss` which is not available. Available metrics are: loss,accuracy\n",
      "219/219 [==============================] - 1s 5ms/step - loss: 0.0084 - accuracy: 2.8571e-04\n",
      "Epoch 6/100\n",
      "219/219 [==============================] - ETA: 0s - loss: 0.0078 - accuracy: 2.8571e-04WARNING:tensorflow:Can save best model only with val_loss available, skipping.\n",
      "WARNING:tensorflow:Early stopping conditioned on metric `val_loss` which is not available. Available metrics are: loss,accuracy\n",
      "219/219 [==============================] - 1s 5ms/step - loss: 0.0078 - accuracy: 2.8571e-04\n",
      "Epoch 7/100\n",
      "218/219 [============================>.] - ETA: 0s - loss: 0.0073 - accuracy: 2.8670e-04WARNING:tensorflow:Can save best model only with val_loss available, skipping.\n",
      "WARNING:tensorflow:Early stopping conditioned on metric `val_loss` which is not available. Available metrics are: loss,accuracy\n",
      "219/219 [==============================] - 1s 5ms/step - loss: 0.0073 - accuracy: 2.8571e-04\n",
      "Epoch 8/100\n",
      "214/219 [============================>.] - ETA: 0s - loss: 0.0069 - accuracy: 2.9206e-04WARNING:tensorflow:Can save best model only with val_loss available, skipping.\n",
      "WARNING:tensorflow:Early stopping conditioned on metric `val_loss` which is not available. Available metrics are: loss,accuracy\n",
      "219/219 [==============================] - 2s 7ms/step - loss: 0.0069 - accuracy: 2.8571e-04\n",
      "Epoch 9/100\n",
      "218/219 [============================>.] - ETA: 0s - loss: 0.0066 - accuracy: 2.8670e-04WARNING:tensorflow:Can save best model only with val_loss available, skipping.\n",
      "WARNING:tensorflow:Early stopping conditioned on metric `val_loss` which is not available. Available metrics are: loss,accuracy\n",
      "219/219 [==============================] - 1s 6ms/step - loss: 0.0066 - accuracy: 2.8571e-04\n",
      "Epoch 10/100\n",
      "214/219 [============================>.] - ETA: 0s - loss: 0.0063 - accuracy: 2.9206e-04WARNING:tensorflow:Can save best model only with val_loss available, skipping.\n",
      "WARNING:tensorflow:Early stopping conditioned on metric `val_loss` which is not available. Available metrics are: loss,accuracy\n",
      "219/219 [==============================] - 1s 6ms/step - loss: 0.0063 - accuracy: 2.8571e-04\n",
      "Epoch 11/100\n",
      "218/219 [============================>.] - ETA: 0s - loss: 0.0061 - accuracy: 2.8670e-04WARNING:tensorflow:Can save best model only with val_loss available, skipping.\n",
      "WARNING:tensorflow:Early stopping conditioned on metric `val_loss` which is not available. Available metrics are: loss,accuracy\n",
      "219/219 [==============================] - 1s 5ms/step - loss: 0.0061 - accuracy: 2.8571e-04\n",
      "Epoch 12/100\n",
      "215/219 [============================>.] - ETA: 0s - loss: 0.0058 - accuracy: 2.9070e-04WARNING:tensorflow:Can save best model only with val_loss available, skipping.\n",
      "WARNING:tensorflow:Early stopping conditioned on metric `val_loss` which is not available. Available metrics are: loss,accuracy\n",
      "219/219 [==============================] - 1s 5ms/step - loss: 0.0058 - accuracy: 2.8571e-04\n",
      "Epoch 13/100\n",
      "211/219 [===========================>..] - ETA: 0s - loss: 0.0056 - accuracy: 2.9621e-04WARNING:tensorflow:Can save best model only with val_loss available, skipping.\n",
      "WARNING:tensorflow:Early stopping conditioned on metric `val_loss` which is not available. Available metrics are: loss,accuracy\n",
      "219/219 [==============================] - 1s 6ms/step - loss: 0.0056 - accuracy: 2.8571e-04\n",
      "Epoch 14/100\n",
      "215/219 [============================>.] - ETA: 0s - loss: 0.0055 - accuracy: 1.4535e-04WARNING:tensorflow:Can save best model only with val_loss available, skipping.\n",
      "WARNING:tensorflow:Early stopping conditioned on metric `val_loss` which is not available. Available metrics are: loss,accuracy\n",
      "219/219 [==============================] - 1s 5ms/step - loss: 0.0055 - accuracy: 2.8571e-04\n",
      "Epoch 15/100\n",
      "210/219 [===========================>..] - ETA: 0s - loss: 0.0054 - accuracy: 2.9762e-04WARNING:tensorflow:Can save best model only with val_loss available, skipping.\n",
      "WARNING:tensorflow:Early stopping conditioned on metric `val_loss` which is not available. Available metrics are: loss,accuracy\n",
      "219/219 [==============================] - 1s 6ms/step - loss: 0.0054 - accuracy: 2.8571e-04\n",
      "Epoch 16/100\n",
      "208/219 [===========================>..] - ETA: 0s - loss: 0.0053 - accuracy: 3.0048e-04WARNING:tensorflow:Can save best model only with val_loss available, skipping.\n",
      "WARNING:tensorflow:Early stopping conditioned on metric `val_loss` which is not available. Available metrics are: loss,accuracy\n",
      "219/219 [==============================] - 1s 5ms/step - loss: 0.0053 - accuracy: 2.8571e-04\n",
      "Epoch 17/100\n",
      "215/219 [============================>.] - ETA: 0s - loss: 0.0052 - accuracy: 2.9070e-04WARNING:tensorflow:Can save best model only with val_loss available, skipping.\n",
      "WARNING:tensorflow:Early stopping conditioned on metric `val_loss` which is not available. Available metrics are: loss,accuracy\n",
      "219/219 [==============================] - 1s 5ms/step - loss: 0.0051 - accuracy: 2.8571e-04\n",
      "Epoch 18/100\n",
      "211/219 [===========================>..] - ETA: 0s - loss: 0.0051 - accuracy: 2.9621e-04WARNING:tensorflow:Can save best model only with val_loss available, skipping.\n",
      "WARNING:tensorflow:Early stopping conditioned on metric `val_loss` which is not available. Available metrics are: loss,accuracy\n",
      "219/219 [==============================] - 1s 6ms/step - loss: 0.0051 - accuracy: 2.8571e-04\n",
      "Epoch 19/100\n",
      "219/219 [==============================] - ETA: 0s - loss: 0.0050 - accuracy: 2.8571e-04WARNING:tensorflow:Can save best model only with val_loss available, skipping.\n",
      "WARNING:tensorflow:Early stopping conditioned on metric `val_loss` which is not available. Available metrics are: loss,accuracy\n",
      "219/219 [==============================] - 2s 8ms/step - loss: 0.0050 - accuracy: 2.8571e-04\n",
      "Epoch 20/100\n",
      "209/219 [===========================>..] - ETA: 0s - loss: 0.0049 - accuracy: 2.9904e-04WARNING:tensorflow:Can save best model only with val_loss available, skipping.\n",
      "WARNING:tensorflow:Early stopping conditioned on metric `val_loss` which is not available. Available metrics are: loss,accuracy\n",
      "219/219 [==============================] - 1s 5ms/step - loss: 0.0049 - accuracy: 2.8571e-04\n",
      "Epoch 21/100\n",
      "210/219 [===========================>..] - ETA: 0s - loss: 0.0049 - accuracy: 2.9762e-04WARNING:tensorflow:Can save best model only with val_loss available, skipping.\n",
      "WARNING:tensorflow:Early stopping conditioned on metric `val_loss` which is not available. Available metrics are: loss,accuracy\n",
      "219/219 [==============================] - 1s 5ms/step - loss: 0.0049 - accuracy: 2.8571e-04\n",
      "Epoch 22/100\n",
      "219/219 [==============================] - ETA: 0s - loss: 0.0048 - accuracy: 2.8571e-04WARNING:tensorflow:Can save best model only with val_loss available, skipping.\n",
      "WARNING:tensorflow:Early stopping conditioned on metric `val_loss` which is not available. Available metrics are: loss,accuracy\n",
      "219/219 [==============================] - 1s 5ms/step - loss: 0.0048 - accuracy: 2.8571e-04\n",
      "Epoch 23/100\n",
      "217/219 [============================>.] - ETA: 0s - loss: 0.0048 - accuracy: 2.8802e-04WARNING:tensorflow:Can save best model only with val_loss available, skipping.\n",
      "WARNING:tensorflow:Early stopping conditioned on metric `val_loss` which is not available. Available metrics are: loss,accuracy\n",
      "219/219 [==============================] - 1s 5ms/step - loss: 0.0048 - accuracy: 2.8571e-04\n",
      "Epoch 24/100\n",
      "212/219 [============================>.] - ETA: 0s - loss: 0.0048 - accuracy: 2.9481e-04WARNING:tensorflow:Can save best model only with val_loss available, skipping.\n",
      "WARNING:tensorflow:Early stopping conditioned on metric `val_loss` which is not available. Available metrics are: loss,accuracy\n",
      "219/219 [==============================] - 1s 4ms/step - loss: 0.0048 - accuracy: 2.8571e-04\n",
      "Epoch 25/100\n",
      "214/219 [============================>.] - ETA: 0s - loss: 0.0047 - accuracy: 2.9206e-04WARNING:tensorflow:Can save best model only with val_loss available, skipping.\n",
      "WARNING:tensorflow:Early stopping conditioned on metric `val_loss` which is not available. Available metrics are: loss,accuracy\n",
      "219/219 [==============================] - 1s 6ms/step - loss: 0.0047 - accuracy: 2.8571e-04\n",
      "Epoch 26/100\n",
      "218/219 [============================>.] - ETA: 0s - loss: 0.0047 - accuracy: 2.8670e-04WARNING:tensorflow:Can save best model only with val_loss available, skipping.\n",
      "WARNING:tensorflow:Early stopping conditioned on metric `val_loss` which is not available. Available metrics are: loss,accuracy\n",
      "219/219 [==============================] - 1s 5ms/step - loss: 0.0047 - accuracy: 2.8571e-04\n",
      "Epoch 27/100\n",
      "216/219 [============================>.] - ETA: 0s - loss: 0.0047 - accuracy: 2.8935e-04WARNING:tensorflow:Can save best model only with val_loss available, skipping.\n",
      "WARNING:tensorflow:Early stopping conditioned on metric `val_loss` which is not available. Available metrics are: loss,accuracy\n",
      "219/219 [==============================] - 1s 5ms/step - loss: 0.0047 - accuracy: 2.8571e-04\n",
      "Epoch 28/100\n",
      "217/219 [============================>.] - ETA: 0s - loss: 0.0046 - accuracy: 2.8802e-04WARNING:tensorflow:Can save best model only with val_loss available, skipping.\n",
      "WARNING:tensorflow:Early stopping conditioned on metric `val_loss` which is not available. Available metrics are: loss,accuracy\n",
      "219/219 [==============================] - 1s 6ms/step - loss: 0.0046 - accuracy: 2.8571e-04\n",
      "Epoch 29/100\n",
      "214/219 [============================>.] - ETA: 0s - loss: 0.0046 - accuracy: 2.9206e-04WARNING:tensorflow:Can save best model only with val_loss available, skipping.\n",
      "WARNING:tensorflow:Early stopping conditioned on metric `val_loss` which is not available. Available metrics are: loss,accuracy\n",
      "219/219 [==============================] - 1s 5ms/step - loss: 0.0046 - accuracy: 2.8571e-04\n",
      "Epoch 30/100\n",
      "213/219 [============================>.] - ETA: 0s - loss: 0.0046 - accuracy: 2.9343e-04WARNING:tensorflow:Can save best model only with val_loss available, skipping.\n",
      "WARNING:tensorflow:Early stopping conditioned on metric `val_loss` which is not available. Available metrics are: loss,accuracy\n",
      "219/219 [==============================] - 1s 5ms/step - loss: 0.0046 - accuracy: 2.8571e-04\n",
      "Epoch 31/100\n",
      "215/219 [============================>.] - ETA: 0s - loss: 0.0046 - accuracy: 2.9070e-04WARNING:tensorflow:Can save best model only with val_loss available, skipping.\n",
      "WARNING:tensorflow:Early stopping conditioned on metric `val_loss` which is not available. Available metrics are: loss,accuracy\n",
      "219/219 [==============================] - 2s 7ms/step - loss: 0.0046 - accuracy: 2.8571e-04\n",
      "Epoch 32/100\n",
      "218/219 [============================>.] - ETA: 0s - loss: 0.0046 - accuracy: 2.8670e-04WARNING:tensorflow:Can save best model only with val_loss available, skipping.\n",
      "WARNING:tensorflow:Early stopping conditioned on metric `val_loss` which is not available. Available metrics are: loss,accuracy\n",
      "219/219 [==============================] - 2s 8ms/step - loss: 0.0046 - accuracy: 2.8571e-04\n",
      "Epoch 33/100\n",
      "211/219 [===========================>..] - ETA: 0s - loss: 0.0046 - accuracy: 2.9621e-04WARNING:tensorflow:Can save best model only with val_loss available, skipping.\n",
      "WARNING:tensorflow:Early stopping conditioned on metric `val_loss` which is not available. Available metrics are: loss,accuracy\n",
      "219/219 [==============================] - 1s 6ms/step - loss: 0.0046 - accuracy: 2.8571e-04\n",
      "Epoch 34/100\n",
      "211/219 [===========================>..] - ETA: 0s - loss: 0.0046 - accuracy: 2.9621e-04WARNING:tensorflow:Can save best model only with val_loss available, skipping.\n",
      "WARNING:tensorflow:Early stopping conditioned on metric `val_loss` which is not available. Available metrics are: loss,accuracy\n",
      "219/219 [==============================] - 1s 5ms/step - loss: 0.0046 - accuracy: 2.8571e-04\n",
      "Epoch 35/100\n",
      "213/219 [============================>.] - ETA: 0s - loss: 0.0046 - accuracy: 2.9343e-04WARNING:tensorflow:Can save best model only with val_loss available, skipping.\n",
      "WARNING:tensorflow:Early stopping conditioned on metric `val_loss` which is not available. Available metrics are: loss,accuracy\n",
      "219/219 [==============================] - 1s 5ms/step - loss: 0.0045 - accuracy: 2.8571e-04\n",
      "Epoch 36/100\n",
      "211/219 [===========================>..] - ETA: 0s - loss: 0.0045 - accuracy: 2.9621e-04WARNING:tensorflow:Can save best model only with val_loss available, skipping.\n",
      "WARNING:tensorflow:Early stopping conditioned on metric `val_loss` which is not available. Available metrics are: loss,accuracy\n",
      "219/219 [==============================] - 1s 5ms/step - loss: 0.0045 - accuracy: 2.8571e-04\n",
      "Epoch 37/100\n",
      "213/219 [============================>.] - ETA: 0s - loss: 0.0045 - accuracy: 2.9343e-04WARNING:tensorflow:Can save best model only with val_loss available, skipping.\n",
      "WARNING:tensorflow:Early stopping conditioned on metric `val_loss` which is not available. Available metrics are: loss,accuracy\n",
      "219/219 [==============================] - 1s 5ms/step - loss: 0.0045 - accuracy: 2.8571e-04\n",
      "Epoch 38/100\n",
      "217/219 [============================>.] - ETA: 0s - loss: 0.0045 - accuracy: 2.8802e-04WARNING:tensorflow:Can save best model only with val_loss available, skipping.\n",
      "WARNING:tensorflow:Early stopping conditioned on metric `val_loss` which is not available. Available metrics are: loss,accuracy\n",
      "219/219 [==============================] - 1s 5ms/step - loss: 0.0045 - accuracy: 2.8571e-04\n",
      "Epoch 39/100\n",
      "214/219 [============================>.] - ETA: 0s - loss: 0.0045 - accuracy: 2.9206e-04WARNING:tensorflow:Can save best model only with val_loss available, skipping.\n",
      "WARNING:tensorflow:Early stopping conditioned on metric `val_loss` which is not available. Available metrics are: loss,accuracy\n",
      "219/219 [==============================] - 1s 5ms/step - loss: 0.0045 - accuracy: 2.8571e-04\n",
      "Epoch 40/100\n",
      "213/219 [============================>.] - ETA: 0s - loss: 0.0045 - accuracy: 2.9343e-04WARNING:tensorflow:Can save best model only with val_loss available, skipping.\n",
      "WARNING:tensorflow:Early stopping conditioned on metric `val_loss` which is not available. Available metrics are: loss,accuracy\n",
      "219/219 [==============================] - 1s 6ms/step - loss: 0.0045 - accuracy: 2.8571e-04\n",
      "Epoch 41/100\n",
      "217/219 [============================>.] - ETA: 0s - loss: 0.0045 - accuracy: 2.8802e-04WARNING:tensorflow:Can save best model only with val_loss available, skipping.\n",
      "WARNING:tensorflow:Early stopping conditioned on metric `val_loss` which is not available. Available metrics are: loss,accuracy\n",
      "219/219 [==============================] - 2s 7ms/step - loss: 0.0045 - accuracy: 2.8571e-04\n",
      "Epoch 42/100\n",
      "219/219 [==============================] - ETA: 0s - loss: 0.0045 - accuracy: 2.8571e-04WARNING:tensorflow:Can save best model only with val_loss available, skipping.\n",
      "WARNING:tensorflow:Early stopping conditioned on metric `val_loss` which is not available. Available metrics are: loss,accuracy\n",
      "219/219 [==============================] - 2s 11ms/step - loss: 0.0045 - accuracy: 2.8571e-04\n",
      "Epoch 43/100\n",
      "218/219 [============================>.] - ETA: 0s - loss: 0.0044 - accuracy: 2.8670e-04WARNING:tensorflow:Can save best model only with val_loss available, skipping.\n",
      "WARNING:tensorflow:Early stopping conditioned on metric `val_loss` which is not available. Available metrics are: loss,accuracy\n",
      "219/219 [==============================] - 3s 15ms/step - loss: 0.0044 - accuracy: 2.8571e-04\n",
      "Epoch 44/100\n",
      "218/219 [============================>.] - ETA: 0s - loss: 0.0045 - accuracy: 2.8670e-04WARNING:tensorflow:Can save best model only with val_loss available, skipping.\n",
      "WARNING:tensorflow:Early stopping conditioned on metric `val_loss` which is not available. Available metrics are: loss,accuracy\n",
      "219/219 [==============================] - 3s 13ms/step - loss: 0.0045 - accuracy: 2.8571e-04\n",
      "Epoch 45/100\n",
      "217/219 [============================>.] - ETA: 0s - loss: 0.0045 - accuracy: 2.8802e-04WARNING:tensorflow:Can save best model only with val_loss available, skipping.\n",
      "WARNING:tensorflow:Early stopping conditioned on metric `val_loss` which is not available. Available metrics are: loss,accuracy\n",
      "219/219 [==============================] - 2s 11ms/step - loss: 0.0045 - accuracy: 2.8571e-04\n",
      "Epoch 46/100\n",
      "216/219 [============================>.] - ETA: 0s - loss: 0.0045 - accuracy: 2.8935e-04WARNING:tensorflow:Can save best model only with val_loss available, skipping.\n",
      "WARNING:tensorflow:Early stopping conditioned on metric `val_loss` which is not available. Available metrics are: loss,accuracy\n",
      "219/219 [==============================] - 2s 10ms/step - loss: 0.0045 - accuracy: 2.8571e-04\n",
      "Epoch 47/100\n",
      "215/219 [============================>.] - ETA: 0s - loss: 0.0044 - accuracy: 2.9070e-04WARNING:tensorflow:Can save best model only with val_loss available, skipping.\n",
      "WARNING:tensorflow:Early stopping conditioned on metric `val_loss` which is not available. Available metrics are: loss,accuracy\n",
      "219/219 [==============================] - 2s 7ms/step - loss: 0.0044 - accuracy: 2.8571e-04\n",
      "Epoch 48/100\n",
      "219/219 [==============================] - ETA: 0s - loss: 0.0044 - accuracy: 2.8571e-04WARNING:tensorflow:Can save best model only with val_loss available, skipping.\n",
      "WARNING:tensorflow:Early stopping conditioned on metric `val_loss` which is not available. Available metrics are: loss,accuracy\n",
      "219/219 [==============================] - 2s 8ms/step - loss: 0.0044 - accuracy: 2.8571e-04\n",
      "Epoch 49/100\n",
      "215/219 [============================>.] - ETA: 0s - loss: 0.0044 - accuracy: 2.9070e-04WARNING:tensorflow:Can save best model only with val_loss available, skipping.\n",
      "WARNING:tensorflow:Early stopping conditioned on metric `val_loss` which is not available. Available metrics are: loss,accuracy\n",
      "219/219 [==============================] - 2s 7ms/step - loss: 0.0044 - accuracy: 2.8571e-04\n",
      "Epoch 50/100\n",
      "212/219 [============================>.] - ETA: 0s - loss: 0.0044 - accuracy: 2.9481e-04WARNING:tensorflow:Can save best model only with val_loss available, skipping.\n",
      "WARNING:tensorflow:Early stopping conditioned on metric `val_loss` which is not available. Available metrics are: loss,accuracy\n",
      "219/219 [==============================] - 1s 7ms/step - loss: 0.0044 - accuracy: 2.8571e-04\n",
      "Epoch 51/100\n",
      "215/219 [============================>.] - ETA: 0s - loss: 0.0044 - accuracy: 2.9070e-04WARNING:tensorflow:Can save best model only with val_loss available, skipping.\n",
      "WARNING:tensorflow:Early stopping conditioned on metric `val_loss` which is not available. Available metrics are: loss,accuracy\n",
      "219/219 [==============================] - 1s 7ms/step - loss: 0.0044 - accuracy: 2.8571e-04\n",
      "Epoch 52/100\n",
      "215/219 [============================>.] - ETA: 0s - loss: 0.0044 - accuracy: 2.9070e-04WARNING:tensorflow:Can save best model only with val_loss available, skipping.\n",
      "WARNING:tensorflow:Early stopping conditioned on metric `val_loss` which is not available. Available metrics are: loss,accuracy\n",
      "219/219 [==============================] - 2s 7ms/step - loss: 0.0044 - accuracy: 2.8571e-04\n",
      "Epoch 53/100\n",
      "217/219 [============================>.] - ETA: 0s - loss: 0.0044 - accuracy: 2.8802e-04WARNING:tensorflow:Can save best model only with val_loss available, skipping.\n",
      "WARNING:tensorflow:Early stopping conditioned on metric `val_loss` which is not available. Available metrics are: loss,accuracy\n",
      "219/219 [==============================] - 1s 6ms/step - loss: 0.0044 - accuracy: 2.8571e-04\n",
      "Epoch 54/100\n",
      "215/219 [============================>.] - ETA: 0s - loss: 0.0044 - accuracy: 2.9070e-04WARNING:tensorflow:Can save best model only with val_loss available, skipping.\n",
      "WARNING:tensorflow:Early stopping conditioned on metric `val_loss` which is not available. Available metrics are: loss,accuracy\n",
      "219/219 [==============================] - 2s 9ms/step - loss: 0.0044 - accuracy: 2.8571e-04\n",
      "Epoch 55/100\n",
      "212/219 [============================>.] - ETA: 0s - loss: 0.0043 - accuracy: 2.9481e-04WARNING:tensorflow:Can save best model only with val_loss available, skipping.\n",
      "WARNING:tensorflow:Early stopping conditioned on metric `val_loss` which is not available. Available metrics are: loss,accuracy\n",
      "219/219 [==============================] - 2s 7ms/step - loss: 0.0043 - accuracy: 2.8571e-04\n",
      "Epoch 56/100\n",
      "215/219 [============================>.] - ETA: 0s - loss: 0.0044 - accuracy: 2.9070e-04WARNING:tensorflow:Can save best model only with val_loss available, skipping.\n",
      "WARNING:tensorflow:Early stopping conditioned on metric `val_loss` which is not available. Available metrics are: loss,accuracy\n",
      "219/219 [==============================] - 1s 6ms/step - loss: 0.0044 - accuracy: 2.8571e-04\n",
      "Epoch 57/100\n",
      "217/219 [============================>.] - ETA: 0s - loss: 0.0044 - accuracy: 2.8802e-04WARNING:tensorflow:Can save best model only with val_loss available, skipping.\n",
      "WARNING:tensorflow:Early stopping conditioned on metric `val_loss` which is not available. Available metrics are: loss,accuracy\n",
      "219/219 [==============================] - 1s 7ms/step - loss: 0.0043 - accuracy: 2.8571e-04\n",
      "Epoch 58/100\n",
      "212/219 [============================>.] - ETA: 0s - loss: 0.0044 - accuracy: 2.9481e-04WARNING:tensorflow:Can save best model only with val_loss available, skipping.\n",
      "WARNING:tensorflow:Early stopping conditioned on metric `val_loss` which is not available. Available metrics are: loss,accuracy\n",
      "219/219 [==============================] - 2s 7ms/step - loss: 0.0044 - accuracy: 2.8571e-04\n",
      "Epoch 59/100\n",
      "215/219 [============================>.] - ETA: 0s - loss: 0.0044 - accuracy: 1.4535e-04WARNING:tensorflow:Can save best model only with val_loss available, skipping.\n",
      "WARNING:tensorflow:Early stopping conditioned on metric `val_loss` which is not available. Available metrics are: loss,accuracy\n",
      "219/219 [==============================] - 1s 6ms/step - loss: 0.0044 - accuracy: 2.8571e-04\n",
      "Epoch 60/100\n",
      "215/219 [============================>.] - ETA: 0s - loss: 0.0044 - accuracy: 2.9070e-04WARNING:tensorflow:Can save best model only with val_loss available, skipping.\n",
      "WARNING:tensorflow:Early stopping conditioned on metric `val_loss` which is not available. Available metrics are: loss,accuracy\n",
      "219/219 [==============================] - 1s 6ms/step - loss: 0.0044 - accuracy: 2.8571e-04\n",
      "Epoch 61/100\n",
      "217/219 [============================>.] - ETA: 0s - loss: 0.0044 - accuracy: 2.8802e-04WARNING:tensorflow:Can save best model only with val_loss available, skipping.\n",
      "WARNING:tensorflow:Early stopping conditioned on metric `val_loss` which is not available. Available metrics are: loss,accuracy\n",
      "219/219 [==============================] - 2s 8ms/step - loss: 0.0044 - accuracy: 2.8571e-04\n",
      "Epoch 62/100\n",
      "213/219 [============================>.] - ETA: 0s - loss: 0.0044 - accuracy: 2.9343e-04WARNING:tensorflow:Can save best model only with val_loss available, skipping.\n",
      "WARNING:tensorflow:Early stopping conditioned on metric `val_loss` which is not available. Available metrics are: loss,accuracy\n",
      "219/219 [==============================] - 2s 7ms/step - loss: 0.0044 - accuracy: 2.8571e-04\n",
      "Epoch 63/100\n",
      "217/219 [============================>.] - ETA: 0s - loss: 0.0043 - accuracy: 2.8802e-04WARNING:tensorflow:Can save best model only with val_loss available, skipping.\n",
      "WARNING:tensorflow:Early stopping conditioned on metric `val_loss` which is not available. Available metrics are: loss,accuracy\n",
      "219/219 [==============================] - 2s 8ms/step - loss: 0.0043 - accuracy: 2.8571e-04\n",
      "Epoch 64/100\n",
      "214/219 [============================>.] - ETA: 0s - loss: 0.0043 - accuracy: 2.9206e-04WARNING:tensorflow:Can save best model only with val_loss available, skipping.\n",
      "WARNING:tensorflow:Early stopping conditioned on metric `val_loss` which is not available. Available metrics are: loss,accuracy\n",
      "219/219 [==============================] - 2s 10ms/step - loss: 0.0043 - accuracy: 2.8571e-04\n",
      "Epoch 65/100\n",
      "213/219 [============================>.] - ETA: 0s - loss: 0.0043 - accuracy: 2.9343e-04WARNING:tensorflow:Can save best model only with val_loss available, skipping.\n",
      "WARNING:tensorflow:Early stopping conditioned on metric `val_loss` which is not available. Available metrics are: loss,accuracy\n",
      "219/219 [==============================] - 1s 7ms/step - loss: 0.0043 - accuracy: 2.8571e-04\n",
      "Epoch 66/100\n",
      "214/219 [============================>.] - ETA: 0s - loss: 0.0043 - accuracy: 1.4603e-04WARNING:tensorflow:Can save best model only with val_loss available, skipping.\n",
      "WARNING:tensorflow:Early stopping conditioned on metric `val_loss` which is not available. Available metrics are: loss,accuracy\n",
      "219/219 [==============================] - 2s 7ms/step - loss: 0.0043 - accuracy: 2.8571e-04\n",
      "Epoch 67/100\n",
      "218/219 [============================>.] - ETA: 0s - loss: 0.0043 - accuracy: 2.8670e-04WARNING:tensorflow:Can save best model only with val_loss available, skipping.\n",
      "WARNING:tensorflow:Early stopping conditioned on metric `val_loss` which is not available. Available metrics are: loss,accuracy\n",
      "219/219 [==============================] - 1s 7ms/step - loss: 0.0043 - accuracy: 2.8571e-04\n",
      "Epoch 68/100\n",
      "211/219 [===========================>..] - ETA: 0s - loss: 0.0043 - accuracy: 2.9621e-04WARNING:tensorflow:Can save best model only with val_loss available, skipping.\n",
      "WARNING:tensorflow:Early stopping conditioned on metric `val_loss` which is not available. Available metrics are: loss,accuracy\n",
      "219/219 [==============================] - 1s 6ms/step - loss: 0.0043 - accuracy: 2.8571e-04\n",
      "Epoch 69/100\n",
      "216/219 [============================>.] - ETA: 0s - loss: 0.0043 - accuracy: 2.8935e-04WARNING:tensorflow:Can save best model only with val_loss available, skipping.\n",
      "WARNING:tensorflow:Early stopping conditioned on metric `val_loss` which is not available. Available metrics are: loss,accuracy\n",
      "219/219 [==============================] - 1s 6ms/step - loss: 0.0043 - accuracy: 2.8571e-04\n",
      "Epoch 70/100\n",
      "213/219 [============================>.] - ETA: 0s - loss: 0.0043 - accuracy: 2.9343e-04WARNING:tensorflow:Can save best model only with val_loss available, skipping.\n",
      "WARNING:tensorflow:Early stopping conditioned on metric `val_loss` which is not available. Available metrics are: loss,accuracy\n",
      "219/219 [==============================] - 1s 6ms/step - loss: 0.0043 - accuracy: 2.8571e-04\n",
      "Epoch 71/100\n",
      "216/219 [============================>.] - ETA: 0s - loss: 0.0043 - accuracy: 2.8935e-04WARNING:tensorflow:Can save best model only with val_loss available, skipping.\n",
      "WARNING:tensorflow:Early stopping conditioned on metric `val_loss` which is not available. Available metrics are: loss,accuracy\n",
      "219/219 [==============================] - 1s 6ms/step - loss: 0.0043 - accuracy: 2.8571e-04\n",
      "Epoch 72/100\n",
      "217/219 [============================>.] - ETA: 0s - loss: 0.0043 - accuracy: 2.8802e-04WARNING:tensorflow:Can save best model only with val_loss available, skipping.\n",
      "WARNING:tensorflow:Early stopping conditioned on metric `val_loss` which is not available. Available metrics are: loss,accuracy\n",
      "219/219 [==============================] - 1s 6ms/step - loss: 0.0043 - accuracy: 2.8571e-04\n",
      "Epoch 73/100\n",
      "215/219 [============================>.] - ETA: 0s - loss: 0.0043 - accuracy: 2.9070e-04WARNING:tensorflow:Can save best model only with val_loss available, skipping.\n",
      "WARNING:tensorflow:Early stopping conditioned on metric `val_loss` which is not available. Available metrics are: loss,accuracy\n",
      "219/219 [==============================] - 1s 6ms/step - loss: 0.0043 - accuracy: 2.8571e-04\n",
      "Epoch 74/100\n",
      "212/219 [============================>.] - ETA: 0s - loss: 0.0043 - accuracy: 2.9481e-04WARNING:tensorflow:Can save best model only with val_loss available, skipping.\n",
      "WARNING:tensorflow:Early stopping conditioned on metric `val_loss` which is not available. Available metrics are: loss,accuracy\n",
      "219/219 [==============================] - 1s 6ms/step - loss: 0.0043 - accuracy: 2.8571e-04\n",
      "Epoch 75/100\n",
      "214/219 [============================>.] - ETA: 0s - loss: 0.0043 - accuracy: 2.9206e-04WARNING:tensorflow:Can save best model only with val_loss available, skipping.\n",
      "WARNING:tensorflow:Early stopping conditioned on metric `val_loss` which is not available. Available metrics are: loss,accuracy\n",
      "219/219 [==============================] - 1s 6ms/step - loss: 0.0043 - accuracy: 2.8571e-04\n",
      "Epoch 76/100\n",
      "217/219 [============================>.] - ETA: 0s - loss: 0.0043 - accuracy: 2.8802e-04WARNING:tensorflow:Can save best model only with val_loss available, skipping.\n",
      "WARNING:tensorflow:Early stopping conditioned on metric `val_loss` which is not available. Available metrics are: loss,accuracy\n",
      "219/219 [==============================] - 1s 6ms/step - loss: 0.0043 - accuracy: 2.8571e-04\n",
      "Epoch 77/100\n",
      "212/219 [============================>.] - ETA: 0s - loss: 0.0043 - accuracy: 2.9481e-04WARNING:tensorflow:Can save best model only with val_loss available, skipping.\n",
      "WARNING:tensorflow:Early stopping conditioned on metric `val_loss` which is not available. Available metrics are: loss,accuracy\n",
      "219/219 [==============================] - 1s 6ms/step - loss: 0.0043 - accuracy: 2.8571e-04\n",
      "Epoch 78/100\n",
      "213/219 [============================>.] - ETA: 0s - loss: 0.0043 - accuracy: 2.9343e-04WARNING:tensorflow:Can save best model only with val_loss available, skipping.\n",
      "WARNING:tensorflow:Early stopping conditioned on metric `val_loss` which is not available. Available metrics are: loss,accuracy\n",
      "219/219 [==============================] - 1s 6ms/step - loss: 0.0043 - accuracy: 2.8571e-04\n",
      "Epoch 79/100\n",
      "214/219 [============================>.] - ETA: 0s - loss: 0.0043 - accuracy: 2.9206e-04WARNING:tensorflow:Can save best model only with val_loss available, skipping.\n",
      "WARNING:tensorflow:Early stopping conditioned on metric `val_loss` which is not available. Available metrics are: loss,accuracy\n",
      "219/219 [==============================] - 1s 6ms/step - loss: 0.0043 - accuracy: 2.8571e-04\n",
      "Epoch 80/100\n",
      "215/219 [============================>.] - ETA: 0s - loss: 0.0042 - accuracy: 2.9070e-04WARNING:tensorflow:Can save best model only with val_loss available, skipping.\n",
      "WARNING:tensorflow:Early stopping conditioned on metric `val_loss` which is not available. Available metrics are: loss,accuracy\n",
      "219/219 [==============================] - 1s 6ms/step - loss: 0.0043 - accuracy: 2.8571e-04\n",
      "Epoch 81/100\n",
      "212/219 [============================>.] - ETA: 0s - loss: 0.0043 - accuracy: 2.9481e-04WARNING:tensorflow:Can save best model only with val_loss available, skipping.\n",
      "WARNING:tensorflow:Early stopping conditioned on metric `val_loss` which is not available. Available metrics are: loss,accuracy\n",
      "219/219 [==============================] - 1s 6ms/step - loss: 0.0043 - accuracy: 2.8571e-04\n",
      "Epoch 82/100\n",
      "215/219 [============================>.] - ETA: 0s - loss: 0.0043 - accuracy: 2.9070e-04WARNING:tensorflow:Can save best model only with val_loss available, skipping.\n",
      "WARNING:tensorflow:Early stopping conditioned on metric `val_loss` which is not available. Available metrics are: loss,accuracy\n",
      "219/219 [==============================] - 1s 6ms/step - loss: 0.0043 - accuracy: 2.8571e-04\n",
      "Epoch 83/100\n",
      "219/219 [==============================] - ETA: 0s - loss: 0.0043 - accuracy: 2.8571e-04WARNING:tensorflow:Can save best model only with val_loss available, skipping.\n",
      "WARNING:tensorflow:Early stopping conditioned on metric `val_loss` which is not available. Available metrics are: loss,accuracy\n",
      "219/219 [==============================] - 1s 6ms/step - loss: 0.0043 - accuracy: 2.8571e-04\n",
      "Epoch 84/100\n",
      "211/219 [===========================>..] - ETA: 0s - loss: 0.0042 - accuracy: 2.9621e-04WARNING:tensorflow:Can save best model only with val_loss available, skipping.\n",
      "WARNING:tensorflow:Early stopping conditioned on metric `val_loss` which is not available. Available metrics are: loss,accuracy\n",
      "219/219 [==============================] - 1s 6ms/step - loss: 0.0042 - accuracy: 2.8571e-04\n",
      "Epoch 85/100\n",
      "215/219 [============================>.] - ETA: 0s - loss: 0.0042 - accuracy: 2.9070e-04WARNING:tensorflow:Can save best model only with val_loss available, skipping.\n",
      "WARNING:tensorflow:Early stopping conditioned on metric `val_loss` which is not available. Available metrics are: loss,accuracy\n",
      "219/219 [==============================] - 1s 6ms/step - loss: 0.0042 - accuracy: 2.8571e-04\n",
      "Epoch 86/100\n",
      "218/219 [============================>.] - ETA: 0s - loss: 0.0042 - accuracy: 2.8670e-04WARNING:tensorflow:Can save best model only with val_loss available, skipping.\n",
      "WARNING:tensorflow:Early stopping conditioned on metric `val_loss` which is not available. Available metrics are: loss,accuracy\n",
      "219/219 [==============================] - 2s 7ms/step - loss: 0.0042 - accuracy: 2.8571e-04\n",
      "Epoch 87/100\n",
      "215/219 [============================>.] - ETA: 0s - loss: 0.0042 - accuracy: 2.9070e-04WARNING:tensorflow:Can save best model only with val_loss available, skipping.\n",
      "WARNING:tensorflow:Early stopping conditioned on metric `val_loss` which is not available. Available metrics are: loss,accuracy\n",
      "219/219 [==============================] - 1s 6ms/step - loss: 0.0042 - accuracy: 2.8571e-04\n",
      "Epoch 88/100\n",
      "210/219 [===========================>..] - ETA: 0s - loss: 0.0042 - accuracy: 1.4881e-04WARNING:tensorflow:Can save best model only with val_loss available, skipping.\n",
      "WARNING:tensorflow:Early stopping conditioned on metric `val_loss` which is not available. Available metrics are: loss,accuracy\n",
      "219/219 [==============================] - 1s 6ms/step - loss: 0.0042 - accuracy: 2.8571e-04\n",
      "Epoch 89/100\n",
      "217/219 [============================>.] - ETA: 0s - loss: 0.0042 - accuracy: 2.8802e-04WARNING:tensorflow:Can save best model only with val_loss available, skipping.\n",
      "WARNING:tensorflow:Early stopping conditioned on metric `val_loss` which is not available. Available metrics are: loss,accuracy\n",
      "219/219 [==============================] - 1s 6ms/step - loss: 0.0042 - accuracy: 2.8571e-04\n",
      "Epoch 90/100\n",
      "210/219 [===========================>..] - ETA: 0s - loss: 0.0042 - accuracy: 2.9762e-04WARNING:tensorflow:Can save best model only with val_loss available, skipping.\n",
      "WARNING:tensorflow:Early stopping conditioned on metric `val_loss` which is not available. Available metrics are: loss,accuracy\n",
      "219/219 [==============================] - 1s 6ms/step - loss: 0.0042 - accuracy: 2.8571e-04\n",
      "Epoch 91/100\n",
      "214/219 [============================>.] - ETA: 0s - loss: 0.0042 - accuracy: 2.9206e-04WARNING:tensorflow:Can save best model only with val_loss available, skipping.\n",
      "WARNING:tensorflow:Early stopping conditioned on metric `val_loss` which is not available. Available metrics are: loss,accuracy\n",
      "219/219 [==============================] - 1s 5ms/step - loss: 0.0042 - accuracy: 2.8571e-04\n",
      "Epoch 92/100\n",
      "219/219 [==============================] - ETA: 0s - loss: 0.0042 - accuracy: 2.8571e-04WARNING:tensorflow:Can save best model only with val_loss available, skipping.\n",
      "WARNING:tensorflow:Early stopping conditioned on metric `val_loss` which is not available. Available metrics are: loss,accuracy\n",
      "219/219 [==============================] - 1s 6ms/step - loss: 0.0042 - accuracy: 2.8571e-04\n",
      "Epoch 93/100\n",
      "219/219 [==============================] - ETA: 0s - loss: 0.0042 - accuracy: 2.8571e-04WARNING:tensorflow:Can save best model only with val_loss available, skipping.\n",
      "WARNING:tensorflow:Early stopping conditioned on metric `val_loss` which is not available. Available metrics are: loss,accuracy\n",
      "219/219 [==============================] - 1s 6ms/step - loss: 0.0042 - accuracy: 2.8571e-04\n",
      "Epoch 94/100\n",
      "217/219 [============================>.] - ETA: 0s - loss: 0.0042 - accuracy: 2.8802e-04WARNING:tensorflow:Can save best model only with val_loss available, skipping.\n",
      "WARNING:tensorflow:Early stopping conditioned on metric `val_loss` which is not available. Available metrics are: loss,accuracy\n",
      "219/219 [==============================] - 1s 6ms/step - loss: 0.0042 - accuracy: 2.8571e-04\n",
      "Epoch 95/100\n",
      "214/219 [============================>.] - ETA: 0s - loss: 0.0042 - accuracy: 2.9206e-04WARNING:tensorflow:Can save best model only with val_loss available, skipping.\n",
      "WARNING:tensorflow:Early stopping conditioned on metric `val_loss` which is not available. Available metrics are: loss,accuracy\n",
      "219/219 [==============================] - 1s 6ms/step - loss: 0.0042 - accuracy: 2.8571e-04\n",
      "Epoch 96/100\n",
      "214/219 [============================>.] - ETA: 0s - loss: 0.0042 - accuracy: 2.9206e-04WARNING:tensorflow:Can save best model only with val_loss available, skipping.\n",
      "WARNING:tensorflow:Early stopping conditioned on metric `val_loss` which is not available. Available metrics are: loss,accuracy\n",
      "219/219 [==============================] - 1s 7ms/step - loss: 0.0042 - accuracy: 2.8571e-04\n",
      "Epoch 97/100\n",
      "218/219 [============================>.] - ETA: 0s - loss: 0.0042 - accuracy: 2.8670e-04WARNING:tensorflow:Can save best model only with val_loss available, skipping.\n",
      "WARNING:tensorflow:Early stopping conditioned on metric `val_loss` which is not available. Available metrics are: loss,accuracy\n",
      "219/219 [==============================] - 1s 6ms/step - loss: 0.0042 - accuracy: 2.8571e-04\n",
      "Epoch 98/100\n",
      "218/219 [============================>.] - ETA: 0s - loss: 0.0042 - accuracy: 2.8670e-04WARNING:tensorflow:Can save best model only with val_loss available, skipping.\n",
      "WARNING:tensorflow:Early stopping conditioned on metric `val_loss` which is not available. Available metrics are: loss,accuracy\n",
      "219/219 [==============================] - 1s 6ms/step - loss: 0.0042 - accuracy: 2.8571e-04\n",
      "Epoch 99/100\n",
      "219/219 [==============================] - ETA: 0s - loss: 0.0042 - accuracy: 2.8571e-04WARNING:tensorflow:Can save best model only with val_loss available, skipping.\n",
      "WARNING:tensorflow:Early stopping conditioned on metric `val_loss` which is not available. Available metrics are: loss,accuracy\n",
      "219/219 [==============================] - 1s 6ms/step - loss: 0.0042 - accuracy: 2.8571e-04\n",
      "Epoch 100/100\n",
      "217/219 [============================>.] - ETA: 0s - loss: 0.0042 - accuracy: 2.8802e-04WARNING:tensorflow:Can save best model only with val_loss available, skipping.\n",
      "WARNING:tensorflow:Early stopping conditioned on metric `val_loss` which is not available. Available metrics are: loss,accuracy\n",
      "219/219 [==============================] - 1s 6ms/step - loss: 0.0042 - accuracy: 2.8571e-04\n"
     ]
    }
   ],
   "execution_count": 14
  },
  {
   "metadata": {},
   "cell_type": "code",
   "outputs": [],
   "execution_count": null,
   "source": "model.save(\"./Toronto_Temperature_model.keras\")",
   "id": "aade27f8b33b9795"
  },
  {
   "metadata": {
    "ExecuteTime": {
     "end_time": "2024-05-27T19:58:23.656844Z",
     "start_time": "2024-05-27T19:58:22.434287Z"
    }
   },
   "cell_type": "code",
   "source": [
    "#Evaluate the results\n",
    "import pandas as pd\n",
    "import matplotlib.pyplot as plt\n",
    "\n",
    "pd.DataFrame(history.history).plot(figsize=(8, 5))\n",
    "plt.grid(True)\n",
    "plt.gca().set_ylim(0, 1) # set the vertical range to [0-1]\n",
    "plt.show()"
   ],
   "id": "3474ca6cd69dbe08",
   "outputs": [
    {
     "data": {
      "text/plain": [
       "<Figure size 800x500 with 1 Axes>"
      ],
      "image/png": "[encoded data removed]"
     },
     "metadata": {},
     "output_type": "display_data"
    }
   ],
   "execution_count": 15
  },
  {
   "metadata": {
    "ExecuteTime": {
     "end_time": "2024-05-27T19:59:21.454138Z",
     "start_time": "2024-05-27T19:59:20.755442Z"
    }
   },
   "cell_type": "code",
   "source": [
    "# Evaluate \n",
    "model.evaluate(x2_train, y2_train)"
   ],
   "id": "3939d7a272396c7a",
   "outputs": [
    {
     "name": "stdout",
     "output_type": "stream",
     "text": [
      "219/219 [==============================] - 1s 3ms/step - loss: 0.0033 - accuracy: 2.8571e-04\n"
     ]
    },
    {
     "data": {
      "text/plain": [
       "[0.003280702279880643, 0.0002857142826542258]"
      ]
     },
     "execution_count": 17,
     "metadata": {},
     "output_type": "execute_result"
    }
   ],
   "execution_count": 17
  },
  {
   "metadata": {
    "ExecuteTime": {
     "end_time": "2024-05-27T20:08:18.940774Z",
     "start_time": "2024-05-27T20:08:18.832260Z"
    }
   },
   "cell_type": "code",
   "source": [
    "def predict_future(model, data, sequence_length, steps):\n",
    "    current_sequence = data[-sequence_length:]\n",
    "    future_predictions = []\n",
    "    \n",
    "    for _ in range(steps):\n",
    "        current_sequence = current_sequence.reshape((1, sequence_length, 1))\n",
    "        prediction = model.predict(current_sequence, verbose=0)\n",
    "        future_predictions.append(prediction[0, 0])\n",
    "        current_sequence = np.append(current_sequence[0, 1:], prediction, axis=0)\n",
    "    \n",
    "    return future_predictions\n",
    "future_steps = 10\n",
    "\n",
    "future_predictions = predict_future(model, x2_test, seq_length, future_steps)"
   ],
   "id": "1b19fb4a41a8fef5",
   "outputs": [
    {
     "ename": "ValueError",
     "evalue": "cannot reshape array of size 100 into shape (1,10,1)",
     "output_type": "error",
     "traceback": [
      "\u001B[1;31m---------------------------------------------------------------------------\u001B[0m",
      "\u001B[1;31mValueError\u001B[0m                                Traceback (most recent call last)",
      "Cell \u001B[1;32mIn[19], line 14\u001B[0m\n\u001B[0;32m     11\u001B[0m     \u001B[38;5;28;01mreturn\u001B[39;00m future_predictions\n\u001B[0;32m     12\u001B[0m future_steps \u001B[38;5;241m=\u001B[39m \u001B[38;5;241m10\u001B[39m\n\u001B[1;32m---> 14\u001B[0m future_predictions \u001B[38;5;241m=\u001B[39m \u001B[43mpredict_future\u001B[49m\u001B[43m(\u001B[49m\u001B[43mmodel\u001B[49m\u001B[43m,\u001B[49m\u001B[43m \u001B[49m\u001B[43mx2_test\u001B[49m\u001B[43m,\u001B[49m\u001B[43m \u001B[49m\u001B[43mseq_length\u001B[49m\u001B[43m,\u001B[49m\u001B[43m \u001B[49m\u001B[43mfuture_steps\u001B[49m\u001B[43m)\u001B[49m\n",
      "Cell \u001B[1;32mIn[19], line 6\u001B[0m, in \u001B[0;36mpredict_future\u001B[1;34m(model, data, sequence_length, steps)\u001B[0m\n\u001B[0;32m      3\u001B[0m future_predictions \u001B[38;5;241m=\u001B[39m []\n\u001B[0;32m      5\u001B[0m \u001B[38;5;28;01mfor\u001B[39;00m _ \u001B[38;5;129;01min\u001B[39;00m \u001B[38;5;28mrange\u001B[39m(steps):\n\u001B[1;32m----> 6\u001B[0m     current_sequence \u001B[38;5;241m=\u001B[39m \u001B[43mcurrent_sequence\u001B[49m\u001B[38;5;241;43m.\u001B[39;49m\u001B[43mreshape\u001B[49m\u001B[43m(\u001B[49m\u001B[43m(\u001B[49m\u001B[38;5;241;43m1\u001B[39;49m\u001B[43m,\u001B[49m\u001B[43m \u001B[49m\u001B[43msequence_length\u001B[49m\u001B[43m,\u001B[49m\u001B[43m \u001B[49m\u001B[38;5;241;43m1\u001B[39;49m\u001B[43m)\u001B[49m\u001B[43m)\u001B[49m\n\u001B[0;32m      7\u001B[0m     prediction \u001B[38;5;241m=\u001B[39m model\u001B[38;5;241m.\u001B[39mpredict(current_sequence, verbose\u001B[38;5;241m=\u001B[39m\u001B[38;5;241m0\u001B[39m)\n\u001B[0;32m      8\u001B[0m     future_predictions\u001B[38;5;241m.\u001B[39mappend(prediction[\u001B[38;5;241m0\u001B[39m, \u001B[38;5;241m0\u001B[39m])\n",
      "\u001B[1;31mValueError\u001B[0m: cannot reshape array of size 100 into shape (1,10,1)"
     ]
    }
   ],
   "execution_count": 19
  },
  {
   "metadata": {},
   "cell_type": "code",
   "outputs": [],
   "execution_count": null,
   "source": "",
   "id": "d34c25f96a5fe510"
  }
 ],
 "metadata": {
  "kernelspec": {
   "display_name": "Python 3",
   "language": "python",
   "name": "python3"
  },
  "language_info": {
   "codemirror_mode": {
    "name": "ipython",
    "version": 2
   },
   "file_extension": ".py",
   "mimetype": "text/x-python",
   "name": "python",
   "nbconvert_exporter": "python",
   "pygments_lexer": "ipython2",
   "version": "2.7.6"
  }
 },
 "nbformat": 4,
 "nbformat_minor": 5
}
